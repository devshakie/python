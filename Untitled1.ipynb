{
 "cells": [
  {
   "cell_type": "code",
   "execution_count": null,
   "id": "abe789c7",
   "metadata": {},
   "outputs": [],
   "source": [
    "from PIL import Image\n",
    "\n",
    "# Specify file paths using double backslashes or a raw string\n",
    "original_image_path = \"C:/Users/SHAKIRA/Pictures/yoh.jpeg\"\n",
    "\n",
    "# Open the original image\n",
    "original_image = Image.open(original_image_path)\n",
    "\n",
    "# Save the compressed image in PNG format (lossless)\n",
    "compressed_image_path = \"compressed_yoh.png\"\n",
    "original_image.save(compressed_image_path, 'PNG')\n",
    "\n",
    "# Open the compressed image\n",
    "compressed_image = Image.open(compressed_image_path)\n",
    "\n",
    "# Display the original and compressed images\n",
    "original_image.show()\n",
    "compressed_image.show()"
   ]
  },
  {
   "cell_type": "code",
   "execution_count": null,
   "id": "f6fb689a",
   "metadata": {},
   "outputs": [],
   "source": []
  },
  {
   "cell_type": "code",
   "execution_count": null,
   "id": "93cc2f37",
   "metadata": {},
   "outputs": [],
   "source": []
  },
  {
   "cell_type": "code",
   "execution_count": null,
   "id": "d73f4d3f",
   "metadata": {},
   "outputs": [],
   "source": []
  },
  {
   "cell_type": "code",
   "execution_count": null,
   "id": "c14ef470",
   "metadata": {},
   "outputs": [],
   "source": []
  },
  {
   "cell_type": "code",
   "execution_count": null,
   "id": "75e309fb",
   "metadata": {},
   "outputs": [],
   "source": []
  },
  {
   "cell_type": "code",
   "execution_count": null,
   "id": "a33e0298",
   "metadata": {},
   "outputs": [],
   "source": []
  }
 ],
 "metadata": {
  "kernelspec": {
   "display_name": "Python 3 (ipykernel)",
   "language": "python",
   "name": "python3"
  },
  "language_info": {
   "codemirror_mode": {
    "name": "ipython",
    "version": 3
   },
   "file_extension": ".py",
   "mimetype": "text/x-python",
   "name": "python",
   "nbconvert_exporter": "python",
   "pygments_lexer": "ipython3",
   "version": "3.10.9"
  }
 },
 "nbformat": 4,
 "nbformat_minor": 5
}
