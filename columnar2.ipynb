{
 "cells": [
  {
   "cell_type": "code",
   "execution_count": 1,
   "id": "14b86484",
   "metadata": {},
   "outputs": [],
   "source": [
    "def encrypt_message(message, key):\n",
    "    # Remove spaces and make message all lowercase\n",
    "    message = message.replace(\" \", \"\").lower()\n",
    "    \n",
    "    # Calculate the number of columns required\n",
    "    num_cols = len(key)\n",
    "    \n",
    "    # Calculate the number of rows required\n",
    "    num_rows = -(-len(message) // num_cols)\n",
    "    \n",
    "    # Pad the message with extra characters if needed\n",
    "    message += '*' * (num_rows * num_cols - len(message))\n",
    "    \n",
    "    # Create an empty matrix to hold the message\n",
    "    matrix = [[''] * num_cols for _ in range(num_rows)]\n",
    "    \n",
    "    # Populate the matrix with the message characters\n",
    "    for i, char in enumerate(message):\n",
    "        row = i // num_cols\n",
    "        col = i % num_cols\n",
    "        matrix[row][col] = char\n",
    "    \n",
    "    # Encrypt the message using the key order\n",
    "    encrypted_message = ''\n",
    "    for k in sorted(key):\n",
    "        col_index = key.index(k)\n",
    "        for row in matrix:\n",
    "            encrypted_message += row[col_index]\n",
    "    \n",
    "    return encrypted_message"
   ]
  },
  {
   "cell_type": "code",
   "execution_count": 2,
   "id": "a50256aa",
   "metadata": {},
   "outputs": [
    {
     "name": "stdout",
     "output_type": "stream",
     "text": [
      "Encrypted message: ssesehscmaiaregtiets\n"
     ]
    }
   ],
   "source": [
    "message = \"This is a secret message\"\n",
    "key = [4, 2, 3, 1]  \n",
    "encrypted_message = encrypt_message(message, key)\n",
    "print(\"Encrypted message:\", encrypted_message)"
   ]
  },
  {
   "cell_type": "code",
   "execution_count": null,
   "id": "b0526377",
   "metadata": {},
   "outputs": [],
   "source": []
  }
 ],
 "metadata": {
  "kernelspec": {
   "display_name": "Python 3 (ipykernel)",
   "language": "python",
   "name": "python3"
  },
  "language_info": {
   "codemirror_mode": {
    "name": "ipython",
    "version": 3
   },
   "file_extension": ".py",
   "mimetype": "text/x-python",
   "name": "python",
   "nbconvert_exporter": "python",
   "pygments_lexer": "ipython3",
   "version": "3.11.4"
  }
 },
 "nbformat": 4,
 "nbformat_minor": 5
}
