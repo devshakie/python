{
 "cells": [
  {
   "cell_type": "code",
   "execution_count": 1,
   "id": "74d8aec0",
   "metadata": {},
   "outputs": [],
   "source": [
    "import math"
   ]
  },
  {
   "cell_type": "code",
   "execution_count": 2,
   "id": "b5ffe908",
   "metadata": {},
   "outputs": [],
   "source": [
    "key = \"HACK\""
   ]
  },
  {
   "cell_type": "code",
   "execution_count": 3,
   "id": "3870ca0f",
   "metadata": {},
   "outputs": [],
   "source": [
    "# Encryption\n",
    "def encryptMessage(msg):\n",
    "    cipher = \"\"\n",
    "\n",
    "    # track key indices\n",
    "    k_indx = 0\n",
    "\n",
    "    msg_len = float(len(msg))\n",
    "    msg_lst = list(msg)\n",
    "    key_lst = sorted(list(key))\n",
    "\n",
    "    # calculate column of the matrix\n",
    "    col = len(key)\n",
    "    \n",
    "    # calculate maximum row of the matrix\n",
    "    row = int(math.ceil(msg_len / col))\n",
    "\n",
    "    # add the padding character '_' in empty\n",
    "    # the empty cell of the matix \n",
    "    fill_null = int((row * col) - msg_len)\n",
    "    msg_lst.extend('_' * fill_null)\n",
    "\n",
    "    # create Matrix and insert message and \n",
    "    # padding characters row-wise \n",
    "    matrix = [msg_lst[i: i + col] \n",
    "                for i in range(0, len(msg_lst), col)]\n",
    "\n",
    "    # read matrix column-wise using key\n",
    "    for _ in range(col):\n",
    "        curr_idx = key.index(key_lst[k_indx])\n",
    "        cipher += ''.join([row[curr_idx] \n",
    "                        for row in matrix])\n",
    "        k_indx += 1\n",
    "\n",
    "    return cipher"
   ]
  },
  {
   "cell_type": "code",
   "execution_count": 4,
   "id": "56f899ea",
   "metadata": {},
   "outputs": [
    {
     "name": "stdout",
     "output_type": "stream",
     "text": [
      "Encrypted Message:  iteanhaI 4Ym  r\n"
     ]
    }
   ],
   "source": [
    "msg = \"I am in 4th Year\"\n",
    "\n",
    "cipher = encryptMessage(msg)\n",
    "print(\"Encrypted Message: {}\".\n",
    "            format(cipher))"
   ]
  },
  {
   "cell_type": "code",
   "execution_count": null,
   "id": "6526a317",
   "metadata": {},
   "outputs": [],
   "source": []
  }
 ],
 "metadata": {
  "kernelspec": {
   "display_name": "Python 3 (ipykernel)",
   "language": "python",
   "name": "python3"
  },
  "language_info": {
   "codemirror_mode": {
    "name": "ipython",
    "version": 3
   },
   "file_extension": ".py",
   "mimetype": "text/x-python",
   "name": "python",
   "nbconvert_exporter": "python",
   "pygments_lexer": "ipython3",
   "version": "3.11.4"
  }
 },
 "nbformat": 4,
 "nbformat_minor": 5
}
